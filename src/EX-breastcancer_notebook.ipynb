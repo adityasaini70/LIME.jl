{
 "cells": [
  {
   "cell_type": "markdown",
   "metadata": {},
   "source": [
    "## Source code for https://github.com/alan-turing-institute/DataScienceTutorials.jl/pull/147\n",
    "\n",
    "## Introduction\n",
    "This tutorial covers the concepts of iterative model selection on the popular [\"Breast Cancer Wisconsin (Diagnostic) Data Set\"](https://archive.ics.uci.edu/ml/datasets/Breast+Cancer+Wisconsin+(Diagnostic)) \n",
    " from the UCI archives. The tutorial also covers basic data preprocessing and MLJ ScientificTypes\n",
    "\n",
    "## Loading the relevant packages\n",
    "\n",
    "For a guide to package intsllation in Julia please refer this [link](https://docs.julialang.org/en/v1/stdlib/Pkg/) taken directly from Juliav1 documentation\n"
   ]
  },
  {
   "cell_type": "code",
   "execution_count": 1,
   "metadata": {},
   "outputs": [],
   "source": [
    "using UrlDownload\n",
    "using DataFrames\n",
    "using PrettyPrinting\n",
    "using PyPlot\n",
    "using MLJ\n",
    "ioff() # hide\n",
    "MLJ.color_off() # hide\n",
    "# Inititalizing a global random seed which we'll use throughout the code to maintain consistency in results \n",
    "RANDOM_SEED = 42;"
   ]
  },
  {
   "cell_type": "markdown",
   "metadata": {},
   "source": [
    "## Downloading and loading the data\n",
    "Using the package UrlDownload.jl, we can capture the data from the given link using the below commands"
   ]
  },
  {
   "cell_type": "code",
   "execution_count": 2,
   "metadata": {},
   "outputs": [],
   "source": [
    "url = \"https://archive.ics.uci.edu/ml/machine-learning-databases/breast-cancer-wisconsin/wdbc.data\";\n",
    "feature_names = [\"ID\", \"Class\", \"mean radius\", \"mean texture\", \"mean perimeter\", \"mean area\", \"mean smoothness\", \"mean compactness\", \"mean concavity\", \"mean concave points\", \"mean symmetry\", \"mean fractal dimension\", \"radius error\", \"texture error\", \"perimeter error\", \"area error\", \"smoothness error\", \"compactness error\", \"concavity error\", \"concave points error\", \"symmetry error\", \"fractal dimension error\", \"worst radius\", \"worst texture\", \"worst perimeter\", \"worst area\", \"worst smoothness\", \"worst compactness\", \"worst concavity\", \"worst concave points\", \"worst symmetry\", \"worst fractal dimension\"]\n",
    "data = urldownload(url, true, format = :CSV, header = feature_names);"
   ]
  },
  {
   "cell_type": "markdown",
   "metadata": {},
   "source": [
    "## Exploring the obtained data\n",
    "### Inspecting the class variable\n"
   ]
  },
  {
   "cell_type": "code",
   "execution_count": null,
   "metadata": {},
   "outputs": [],
   "source": [
    "hist(data.Class);\n",
    "xlabel(\"Classes\");\n",
    "ylabel(\"Number of samples\");"
   ]
  },
  {
   "cell_type": "markdown",
   "metadata": {},
   "source": [
    "### Inspecting the feature set "
   ]
  },
  {
   "cell_type": "markdown",
   "metadata": {},
   "source": [
    "Printing the 1st 10 rows so as to get a visual idea about the type of data we're dealing with"
   ]
  },
  {
   "cell_type": "code",
   "execution_count": null,
   "metadata": {},
   "outputs": [],
   "source": [
    "df = DataFrame(data)[:,2:end];\n",
    "\n",
    "first(df,10)"
   ]
  },
  {
   "cell_type": "markdown",
   "metadata": {},
   "source": [
    "For checking the statistical attributes of each inividual feature, we can use the __decsribe()__ method"
   ]
  },
  {
   "cell_type": "code",
   "execution_count": null,
   "metadata": {},
   "outputs": [],
   "source": [
    "pprint(describe(df))"
   ]
  },
  {
   "cell_type": "markdown",
   "metadata": {},
   "source": [
    "As we can see the feature set consists of varying features that have different ranges and quantiles. This can cause trouble for the optimization techniques and might cause convergence issues. We can use a feature scaling technique like __Standardizer()__ to handle this."
   ]
  },
  {
   "cell_type": "markdown",
   "metadata": {},
   "source": [
    "But first, let's handle the [scientific types](https://alan-turing-institute.github.io/ScientificTypes.jl/dev/) of all the features. We can use the schema() method from MLJ.jl package to do this."
   ]
  },
  {
   "cell_type": "code",
   "execution_count": null,
   "metadata": {},
   "outputs": [],
   "source": [
    "schema(df)"
   ]
  },
  {
   "cell_type": "markdown",
   "metadata": {},
   "source": [
    "As the target variable is 'Textual' in nature, we'll have to change it to a more appropriate scientific type. Using the __coerce()__ method, let's change it to an OrderedFactor.\n"
   ]
  },
  {
   "cell_type": "code",
   "execution_count": null,
   "metadata": {},
   "outputs": [],
   "source": [
    "coerce!(df, :Class => OrderedFactor{2});"
   ]
  },
  {
   "cell_type": "markdown",
   "metadata": {},
   "source": [
    "## Unpacking the values\n",
    "Now that our data is fully processed, we can separate the target variable 'y' from the feature set 'X' using the __unpack()__ method."
   ]
  },
  {
   "cell_type": "code",
   "execution_count": null,
   "metadata": {},
   "outputs": [],
   "source": [
    "y,X = unpack(df, ==(:Class),name->true, rng = RANDOM_SEED);"
   ]
  },
  {
   "cell_type": "markdown",
   "metadata": {},
   "source": [
    "## Standardizing the \"feature set\"\n",
    "Now that our feature set is separated from the target variable, we can use the __Standardizer()__ worklow to obtain to standadrize our feature set 'X'. "
   ]
  },
  {
   "cell_type": "code",
   "execution_count": null,
   "metadata": {},
   "outputs": [],
   "source": [
    "transformer_instance = Standardizer();\n",
    "transformer_model = machine(transformer_instance, X);\n",
    "fit!(transformer_model);\n",
    "X = MLJ.transform(transformer_model, X);"
   ]
  },
  {
   "cell_type": "markdown",
   "metadata": {},
   "source": [
    "## Train-test split\n",
    "After feature scaling, our data is ready to put into a Machine Learning model for classification! Using 80% of data for training, we can perform a train-test split using the __partition()__ method. \n"
   ]
  },
  {
   "cell_type": "code",
   "execution_count": null,
   "metadata": {},
   "outputs": [],
   "source": [
    "train, test = partition(eachindex(y), 0.8, shuffle=true, rng=RANDOM_SEED);"
   ]
  },
  {
   "cell_type": "markdown",
   "metadata": {},
   "source": [
    "## Model compatibility\n",
    "Now that we have separate training and testing set, let's see the models compatible with our data!"
   ]
  },
  {
   "cell_type": "code",
   "execution_count": null,
   "metadata": {},
   "outputs": [],
   "source": [
    "for m in models(matching(X, y))\n",
    "    println(\"Model name = \",m.name,\", \",\"Prediction type = \",m.prediction_type,\", \",\"Package name = \",m.package_name);\n",
    "end\n"
   ]
  },
  {
   "cell_type": "markdown",
   "metadata": {},
   "source": [
    " ## Analyzing the performance of different models\n",
    " Thats a lot of models for our data! To narrow it down, lets analyze the performance of \"probabilistic classifiers\" from the \"ScikitLearn\" package.\n",
    "\n",
    " ### Creating various empty vectors for our analysis\n",
    " - __model_names__ captures the names of the models being iterated\n",
    " - __loss_acc captures__ the value of the model accuracy on the test set\n",
    " - __loss_ce captures__ the values of the Cross-entropy loss on the test set\n",
    " - __loss_f1__ captures the values of F1-Score on the test set"
   ]
  },
  {
   "cell_type": "code",
   "execution_count": null,
   "metadata": {},
   "outputs": [],
   "source": [
    "model_names=Vector{String}();\n",
    "loss_acc=[];\n",
    "loss_ce=[];\n",
    "loss_f1=[];"
   ]
  },
  {
   "cell_type": "markdown",
   "metadata": {},
   "source": [
    "### Collecting data for analysis"
   ]
  },
  {
   "cell_type": "code",
   "execution_count": null,
   "metadata": {},
   "outputs": [],
   "source": [
    "# ### Collecting data for analysis\n",
    "for m in models(matching(X, y))\n",
    "    if m.prediction_type==Symbol(\"probabilistic\") && m.package_name==\"ScikitLearn\" && m.name!=\"LogisticCVClassifier\"\n",
    "        #Excluding LogisticCVClassfiier as we can infer similar baseline results from the LogisticClassifier\n",
    "\n",
    "        #Capturing the model and loading it using the @load utility\n",
    "        model_name=m.name\n",
    "        package_name=m.package_name\n",
    "        eval(:(clf = @load $model_name pkg=$package_name verbosity=1))\n",
    "\n",
    "        #Fitting the captured model onto the training set\n",
    "        clf_machine = machine(clf(), X, y);\n",
    "        fit!(clf_machine, rows=train);\n",
    "\n",
    "        #Getting the predictions onto the test set\n",
    "        y_pred = MLJ.predict(clf_machine, rows=test);\n",
    "\n",
    "        #Plotting the ROC-AUC curve for each model being iterated\n",
    "        fprs, tprs, thresholds = roc(y_pred, y[test])\n",
    "        plot(fprs, tprs,label=model_name);\n",
    "\n",
    "        #Obtaining different evaluation metrics\n",
    "        ce_loss = mean(cross_entropy(y_pred,y[test]))\n",
    "        acc = accuracy(mode.(y_pred), y[test]) \n",
    "        f1_score = f1score(mode.(y_pred), y[test])\n",
    "\n",
    "        #Adding the different obtained values of the evaluation metrics to the respective vectors \n",
    "        push!(model_names, m.name)\n",
    "        append!(loss_acc, acc)\n",
    "        append!(loss_ce, ce_loss)\n",
    "        append!(loss_f1, f1_score)\n",
    "    end\n",
    "end\n",
    "\n",
    "#Adding labels and legend to the ROC-AUC curve\n",
    "xlabel(\"False Positive Rate\");\n",
    "ylabel(\"True Positive Rate\");\n",
    "legend(loc=\"best\", fontsize=\"xx-small\");\n",
    "title(\"ROC curve\");"
   ]
  },
  {
   "cell_type": "markdown",
   "metadata": {},
   "source": [
    "### Analyzing models\n",
    "Let's collect the data in form a dataframe for a more precise analysis\n"
   ]
  },
  {
   "cell_type": "code",
   "execution_count": null,
   "metadata": {},
   "outputs": [],
   "source": [
    "model_info=DataFrame(ModelName=model_names,Accuracy=loss_acc,CrossEntropyLoss=loss_ce,F1Score=loss_f1);\n",
    "# Now, let's sort the data on basis of the Cross-entropy loss\n",
    "pprint(sort!(model_info,[:CrossEntropyLoss]));"
   ]
  },
  {
   "cell_type": "markdown",
   "metadata": {},
   "source": [
    "It seems like a simple LogisticClassifier works really well with this dataset! \n",
    "\n",
    "## Conclusion\n",
    "This article covered iterative feature selection on the Breast cancer classification dataset. In this tutorial, we only analyzed the __ScikitLearn__ models so as to keep the flow of the content precise, but the same workflow can be applied to any compatible model in the __MLJ__ family."
   ]
  }
 ],
 "metadata": {
  "kernelspec": {
   "display_name": "Julia 1.6.3",
   "language": "julia",
   "name": "julia-1.6"
  },
  "language_info": {
   "file_extension": ".jl",
   "mimetype": "application/julia",
   "name": "julia",
   "version": "1.6.3"
  }
 },
 "nbformat": 4,
 "nbformat_minor": 4
}
