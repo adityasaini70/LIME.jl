{
 "cells": [
  {
   "cell_type": "code",
   "execution_count": 1,
   "metadata": {},
   "outputs": [
    {
     "name": "stderr",
     "output_type": "stream",
     "text": [
      "┌ Info: Precompiling DataFrames [a93c6f00-e57d-5684-b7b6-d8193f3e46c0]\n",
      "└ @ Base loading.jl:1342\n",
      "┌ Info: Precompiling MLJ [add582a8-e3ab-11e8-2d5e-e98b27df1bc7]\n",
      "└ @ Base loading.jl:1342\n"
     ]
    }
   ],
   "source": [
    "using UrlDownload\n",
    "using DataFrames\n",
    "using PrettyPrinting\n",
    "using PyPlot\n",
    "using MLJ"
   ]
  },
  {
   "cell_type": "code",
   "execution_count": 2,
   "metadata": {},
   "outputs": [],
   "source": [
    "RANDOM_SEED = 42;"
   ]
  },
  {
   "cell_type": "code",
   "execution_count": 3,
   "metadata": {},
   "outputs": [
    {
     "name": "stderr",
     "output_type": "stream",
     "text": [
      "┌ Info: Precompiling CSV [336ed68f-0bac-5ca0-87d4-7b16caf5d00b]\n",
      "└ @ Base loading.jl:1342\n"
     ]
    }
   ],
   "source": [
    "url = \"https://archive.ics.uci.edu/ml/machine-learning-databases/breast-cancer-wisconsin/wdbc.data\";\n",
    "feature_names = [\"ID\", \"Class\", \"mean radius\", \"mean texture\", \"mean perimeter\", \"mean area\", \"mean smoothness\", \"mean compactness\", \"mean concavity\", \"mean concave points\", \"mean symmetry\", \"mean fractal dimension\", \"radius error\", \"texture error\", \"perimeter error\", \"area error\", \"smoothness error\", \"compactness error\", \"concavity error\", \"concave points error\", \"symmetry error\", \"fractal dimension error\", \"worst radius\", \"worst texture\", \"worst perimeter\", \"worst area\", \"worst smoothness\", \"worst compactness\", \"worst concavity\", \"worst concave points\", \"worst symmetry\", \"worst fractal dimension\"]\n",
    "data = urldownload(url, true, format = :CSV, header = feature_names);"
   ]
  },
  {
   "cell_type": "code",
   "execution_count": 8,
   "metadata": {},
   "outputs": [
    {
     "data": {
      "text/html": [
       "<table class=\"data-frame\"><thead><tr><th></th><th>Class</th><th>mean radius</th><th>mean texture</th><th>mean perimeter</th><th>mean area</th><th>mean smoothness</th></tr><tr><th></th><th>String1…</th><th>Float64</th><th>Float64</th><th>Float64</th><th>Float64</th><th>Float64</th></tr></thead><tbody><p>569 rows × 31 columns (omitted printing of 25 columns)</p><tr><th>1</th><td>M</td><td>17.99</td><td>10.38</td><td>122.8</td><td>1001.0</td><td>0.1184</td></tr><tr><th>2</th><td>M</td><td>20.57</td><td>17.77</td><td>132.9</td><td>1326.0</td><td>0.08474</td></tr><tr><th>3</th><td>M</td><td>19.69</td><td>21.25</td><td>130.0</td><td>1203.0</td><td>0.1096</td></tr><tr><th>4</th><td>M</td><td>11.42</td><td>20.38</td><td>77.58</td><td>386.1</td><td>0.1425</td></tr><tr><th>5</th><td>M</td><td>20.29</td><td>14.34</td><td>135.1</td><td>1297.0</td><td>0.1003</td></tr><tr><th>6</th><td>M</td><td>12.45</td><td>15.7</td><td>82.57</td><td>477.1</td><td>0.1278</td></tr><tr><th>7</th><td>M</td><td>18.25</td><td>19.98</td><td>119.6</td><td>1040.0</td><td>0.09463</td></tr><tr><th>8</th><td>M</td><td>13.71</td><td>20.83</td><td>90.2</td><td>577.9</td><td>0.1189</td></tr><tr><th>9</th><td>M</td><td>13.0</td><td>21.82</td><td>87.5</td><td>519.8</td><td>0.1273</td></tr><tr><th>10</th><td>M</td><td>12.46</td><td>24.04</td><td>83.97</td><td>475.9</td><td>0.1186</td></tr><tr><th>11</th><td>M</td><td>16.02</td><td>23.24</td><td>102.7</td><td>797.8</td><td>0.08206</td></tr><tr><th>12</th><td>M</td><td>15.78</td><td>17.89</td><td>103.6</td><td>781.0</td><td>0.0971</td></tr><tr><th>13</th><td>M</td><td>19.17</td><td>24.8</td><td>132.4</td><td>1123.0</td><td>0.0974</td></tr><tr><th>14</th><td>M</td><td>15.85</td><td>23.95</td><td>103.7</td><td>782.7</td><td>0.08401</td></tr><tr><th>15</th><td>M</td><td>13.73</td><td>22.61</td><td>93.6</td><td>578.3</td><td>0.1131</td></tr><tr><th>16</th><td>M</td><td>14.54</td><td>27.54</td><td>96.73</td><td>658.8</td><td>0.1139</td></tr><tr><th>17</th><td>M</td><td>14.68</td><td>20.13</td><td>94.74</td><td>684.5</td><td>0.09867</td></tr><tr><th>18</th><td>M</td><td>16.13</td><td>20.68</td><td>108.1</td><td>798.8</td><td>0.117</td></tr><tr><th>19</th><td>M</td><td>19.81</td><td>22.15</td><td>130.0</td><td>1260.0</td><td>0.09831</td></tr><tr><th>20</th><td>B</td><td>13.54</td><td>14.36</td><td>87.46</td><td>566.3</td><td>0.09779</td></tr><tr><th>21</th><td>B</td><td>13.08</td><td>15.71</td><td>85.63</td><td>520.0</td><td>0.1075</td></tr><tr><th>22</th><td>B</td><td>9.504</td><td>12.44</td><td>60.34</td><td>273.9</td><td>0.1024</td></tr><tr><th>23</th><td>M</td><td>15.34</td><td>14.26</td><td>102.5</td><td>704.4</td><td>0.1073</td></tr><tr><th>24</th><td>M</td><td>21.16</td><td>23.04</td><td>137.2</td><td>1404.0</td><td>0.09428</td></tr><tr><th>25</th><td>M</td><td>16.65</td><td>21.38</td><td>110.0</td><td>904.6</td><td>0.1121</td></tr><tr><th>26</th><td>M</td><td>17.14</td><td>16.4</td><td>116.0</td><td>912.7</td><td>0.1186</td></tr><tr><th>27</th><td>M</td><td>14.58</td><td>21.53</td><td>97.41</td><td>644.8</td><td>0.1054</td></tr><tr><th>28</th><td>M</td><td>18.61</td><td>20.25</td><td>122.1</td><td>1094.0</td><td>0.0944</td></tr><tr><th>29</th><td>M</td><td>15.3</td><td>25.27</td><td>102.4</td><td>732.4</td><td>0.1082</td></tr><tr><th>30</th><td>M</td><td>17.57</td><td>15.05</td><td>115.0</td><td>955.1</td><td>0.09847</td></tr><tr><th>&vellip;</th><td>&vellip;</td><td>&vellip;</td><td>&vellip;</td><td>&vellip;</td><td>&vellip;</td><td>&vellip;</td></tr></tbody></table>"
      ],
      "text/latex": [
       "\\begin{tabular}{r|ccccccc}\n",
       "\t& Class & mean radius & mean texture & mean perimeter & mean area & mean smoothness & \\\\\n",
       "\t\\hline\n",
       "\t& String1… & Float64 & Float64 & Float64 & Float64 & Float64 & \\\\\n",
       "\t\\hline\n",
       "\t1 & M & 17.99 & 10.38 & 122.8 & 1001.0 & 0.1184 & $\\dots$ \\\\\n",
       "\t2 & M & 20.57 & 17.77 & 132.9 & 1326.0 & 0.08474 & $\\dots$ \\\\\n",
       "\t3 & M & 19.69 & 21.25 & 130.0 & 1203.0 & 0.1096 & $\\dots$ \\\\\n",
       "\t4 & M & 11.42 & 20.38 & 77.58 & 386.1 & 0.1425 & $\\dots$ \\\\\n",
       "\t5 & M & 20.29 & 14.34 & 135.1 & 1297.0 & 0.1003 & $\\dots$ \\\\\n",
       "\t6 & M & 12.45 & 15.7 & 82.57 & 477.1 & 0.1278 & $\\dots$ \\\\\n",
       "\t7 & M & 18.25 & 19.98 & 119.6 & 1040.0 & 0.09463 & $\\dots$ \\\\\n",
       "\t8 & M & 13.71 & 20.83 & 90.2 & 577.9 & 0.1189 & $\\dots$ \\\\\n",
       "\t9 & M & 13.0 & 21.82 & 87.5 & 519.8 & 0.1273 & $\\dots$ \\\\\n",
       "\t10 & M & 12.46 & 24.04 & 83.97 & 475.9 & 0.1186 & $\\dots$ \\\\\n",
       "\t11 & M & 16.02 & 23.24 & 102.7 & 797.8 & 0.08206 & $\\dots$ \\\\\n",
       "\t12 & M & 15.78 & 17.89 & 103.6 & 781.0 & 0.0971 & $\\dots$ \\\\\n",
       "\t13 & M & 19.17 & 24.8 & 132.4 & 1123.0 & 0.0974 & $\\dots$ \\\\\n",
       "\t14 & M & 15.85 & 23.95 & 103.7 & 782.7 & 0.08401 & $\\dots$ \\\\\n",
       "\t15 & M & 13.73 & 22.61 & 93.6 & 578.3 & 0.1131 & $\\dots$ \\\\\n",
       "\t16 & M & 14.54 & 27.54 & 96.73 & 658.8 & 0.1139 & $\\dots$ \\\\\n",
       "\t17 & M & 14.68 & 20.13 & 94.74 & 684.5 & 0.09867 & $\\dots$ \\\\\n",
       "\t18 & M & 16.13 & 20.68 & 108.1 & 798.8 & 0.117 & $\\dots$ \\\\\n",
       "\t19 & M & 19.81 & 22.15 & 130.0 & 1260.0 & 0.09831 & $\\dots$ \\\\\n",
       "\t20 & B & 13.54 & 14.36 & 87.46 & 566.3 & 0.09779 & $\\dots$ \\\\\n",
       "\t21 & B & 13.08 & 15.71 & 85.63 & 520.0 & 0.1075 & $\\dots$ \\\\\n",
       "\t22 & B & 9.504 & 12.44 & 60.34 & 273.9 & 0.1024 & $\\dots$ \\\\\n",
       "\t23 & M & 15.34 & 14.26 & 102.5 & 704.4 & 0.1073 & $\\dots$ \\\\\n",
       "\t24 & M & 21.16 & 23.04 & 137.2 & 1404.0 & 0.09428 & $\\dots$ \\\\\n",
       "\t25 & M & 16.65 & 21.38 & 110.0 & 904.6 & 0.1121 & $\\dots$ \\\\\n",
       "\t26 & M & 17.14 & 16.4 & 116.0 & 912.7 & 0.1186 & $\\dots$ \\\\\n",
       "\t27 & M & 14.58 & 21.53 & 97.41 & 644.8 & 0.1054 & $\\dots$ \\\\\n",
       "\t28 & M & 18.61 & 20.25 & 122.1 & 1094.0 & 0.0944 & $\\dots$ \\\\\n",
       "\t29 & M & 15.3 & 25.27 & 102.4 & 732.4 & 0.1082 & $\\dots$ \\\\\n",
       "\t30 & M & 17.57 & 15.05 & 115.0 & 955.1 & 0.09847 & $\\dots$ \\\\\n",
       "\t$\\dots$ & $\\dots$ & $\\dots$ & $\\dots$ & $\\dots$ & $\\dots$ & $\\dots$ &  \\\\\n",
       "\\end{tabular}\n"
      ],
      "text/plain": [
       "\u001b[1m569×31 DataFrame\u001b[0m\n",
       "\u001b[1m Row \u001b[0m│\u001b[1m Class    \u001b[0m\u001b[1m mean radius \u001b[0m\u001b[1m mean texture \u001b[0m\u001b[1m mean perimeter \u001b[0m\u001b[1m mean area \u001b[0m\u001b[1m mean sm\u001b[0m ⋯\n",
       "\u001b[1m     \u001b[0m│\u001b[90m String1… \u001b[0m\u001b[90m Float64     \u001b[0m\u001b[90m Float64      \u001b[0m\u001b[90m Float64        \u001b[0m\u001b[90m Float64   \u001b[0m\u001b[90m Float64\u001b[0m ⋯\n",
       "─────┼──────────────────────────────────────────────────────────────────────────\n",
       "   1 │ M              17.99          10.38          122.8      1001.0          ⋯\n",
       "   2 │ M              20.57          17.77          132.9      1326.0\n",
       "   3 │ M              19.69          21.25          130.0      1203.0\n",
       "   4 │ M              11.42          20.38           77.58      386.1\n",
       "   5 │ M              20.29          14.34          135.1      1297.0          ⋯\n",
       "   6 │ M              12.45          15.7            82.57      477.1\n",
       "   7 │ M              18.25          19.98          119.6      1040.0\n",
       "   8 │ M              13.71          20.83           90.2       577.9\n",
       "   9 │ M              13.0           21.82           87.5       519.8          ⋯\n",
       "  10 │ M              12.46          24.04           83.97      475.9\n",
       "  11 │ M              16.02          23.24          102.7       797.8\n",
       "  ⋮  │    ⋮           ⋮            ⋮              ⋮             ⋮              ⋱\n",
       " 560 │ B              11.51          23.93           74.52      403.5\n",
       " 561 │ B              14.05          27.15           91.38      600.4          ⋯\n",
       " 562 │ B              11.2           29.37           70.67      386.0\n",
       " 563 │ M              15.22          30.62          103.4       716.9\n",
       " 564 │ M              20.92          25.09          143.0      1347.0\n",
       " 565 │ M              21.56          22.39          142.0      1479.0          ⋯\n",
       " 566 │ M              20.13          28.25          131.2      1261.0\n",
       " 567 │ M              16.6           28.08          108.3       858.1\n",
       " 568 │ M              20.6           29.33          140.1      1265.0\n",
       " 569 │ B               7.76          24.54           47.92      181.0          ⋯\n",
       "\u001b[36m                                                 26 columns and 548 rows omitted\u001b[0m"
      ]
     },
     "execution_count": 8,
     "metadata": {},
     "output_type": "execute_result"
    }
   ],
   "source": [
    "df = DataFrame(data)[:, 2:end]"
   ]
  },
  {
   "cell_type": "code",
   "execution_count": 10,
   "metadata": {},
   "outputs": [
    {
     "data": {
      "text/html": [
       "<table class=\"data-frame\"><thead><tr><th></th><th>Class</th><th>mean radius</th><th>mean texture</th><th>mean perimeter</th><th>mean area</th><th>mean smoothness</th><th>mean compactness</th></tr><tr><th></th><th>Cat…</th><th>Float64</th><th>Float64</th><th>Float64</th><th>Float64</th><th>Float64</th><th>Float64</th></tr></thead><tbody><p>569 rows × 31 columns (omitted printing of 24 columns)</p><tr><th>1</th><td>M</td><td>17.99</td><td>10.38</td><td>122.8</td><td>1001.0</td><td>0.1184</td><td>0.2776</td></tr><tr><th>2</th><td>M</td><td>20.57</td><td>17.77</td><td>132.9</td><td>1326.0</td><td>0.08474</td><td>0.07864</td></tr><tr><th>3</th><td>M</td><td>19.69</td><td>21.25</td><td>130.0</td><td>1203.0</td><td>0.1096</td><td>0.1599</td></tr><tr><th>4</th><td>M</td><td>11.42</td><td>20.38</td><td>77.58</td><td>386.1</td><td>0.1425</td><td>0.2839</td></tr><tr><th>5</th><td>M</td><td>20.29</td><td>14.34</td><td>135.1</td><td>1297.0</td><td>0.1003</td><td>0.1328</td></tr><tr><th>6</th><td>M</td><td>12.45</td><td>15.7</td><td>82.57</td><td>477.1</td><td>0.1278</td><td>0.17</td></tr><tr><th>7</th><td>M</td><td>18.25</td><td>19.98</td><td>119.6</td><td>1040.0</td><td>0.09463</td><td>0.109</td></tr><tr><th>8</th><td>M</td><td>13.71</td><td>20.83</td><td>90.2</td><td>577.9</td><td>0.1189</td><td>0.1645</td></tr><tr><th>9</th><td>M</td><td>13.0</td><td>21.82</td><td>87.5</td><td>519.8</td><td>0.1273</td><td>0.1932</td></tr><tr><th>10</th><td>M</td><td>12.46</td><td>24.04</td><td>83.97</td><td>475.9</td><td>0.1186</td><td>0.2396</td></tr><tr><th>11</th><td>M</td><td>16.02</td><td>23.24</td><td>102.7</td><td>797.8</td><td>0.08206</td><td>0.06669</td></tr><tr><th>12</th><td>M</td><td>15.78</td><td>17.89</td><td>103.6</td><td>781.0</td><td>0.0971</td><td>0.1292</td></tr><tr><th>13</th><td>M</td><td>19.17</td><td>24.8</td><td>132.4</td><td>1123.0</td><td>0.0974</td><td>0.2458</td></tr><tr><th>14</th><td>M</td><td>15.85</td><td>23.95</td><td>103.7</td><td>782.7</td><td>0.08401</td><td>0.1002</td></tr><tr><th>15</th><td>M</td><td>13.73</td><td>22.61</td><td>93.6</td><td>578.3</td><td>0.1131</td><td>0.2293</td></tr><tr><th>16</th><td>M</td><td>14.54</td><td>27.54</td><td>96.73</td><td>658.8</td><td>0.1139</td><td>0.1595</td></tr><tr><th>17</th><td>M</td><td>14.68</td><td>20.13</td><td>94.74</td><td>684.5</td><td>0.09867</td><td>0.072</td></tr><tr><th>18</th><td>M</td><td>16.13</td><td>20.68</td><td>108.1</td><td>798.8</td><td>0.117</td><td>0.2022</td></tr><tr><th>19</th><td>M</td><td>19.81</td><td>22.15</td><td>130.0</td><td>1260.0</td><td>0.09831</td><td>0.1027</td></tr><tr><th>20</th><td>B</td><td>13.54</td><td>14.36</td><td>87.46</td><td>566.3</td><td>0.09779</td><td>0.08129</td></tr><tr><th>21</th><td>B</td><td>13.08</td><td>15.71</td><td>85.63</td><td>520.0</td><td>0.1075</td><td>0.127</td></tr><tr><th>22</th><td>B</td><td>9.504</td><td>12.44</td><td>60.34</td><td>273.9</td><td>0.1024</td><td>0.06492</td></tr><tr><th>23</th><td>M</td><td>15.34</td><td>14.26</td><td>102.5</td><td>704.4</td><td>0.1073</td><td>0.2135</td></tr><tr><th>24</th><td>M</td><td>21.16</td><td>23.04</td><td>137.2</td><td>1404.0</td><td>0.09428</td><td>0.1022</td></tr><tr><th>25</th><td>M</td><td>16.65</td><td>21.38</td><td>110.0</td><td>904.6</td><td>0.1121</td><td>0.1457</td></tr><tr><th>26</th><td>M</td><td>17.14</td><td>16.4</td><td>116.0</td><td>912.7</td><td>0.1186</td><td>0.2276</td></tr><tr><th>27</th><td>M</td><td>14.58</td><td>21.53</td><td>97.41</td><td>644.8</td><td>0.1054</td><td>0.1868</td></tr><tr><th>28</th><td>M</td><td>18.61</td><td>20.25</td><td>122.1</td><td>1094.0</td><td>0.0944</td><td>0.1066</td></tr><tr><th>29</th><td>M</td><td>15.3</td><td>25.27</td><td>102.4</td><td>732.4</td><td>0.1082</td><td>0.1697</td></tr><tr><th>30</th><td>M</td><td>17.57</td><td>15.05</td><td>115.0</td><td>955.1</td><td>0.09847</td><td>0.1157</td></tr><tr><th>&vellip;</th><td>&vellip;</td><td>&vellip;</td><td>&vellip;</td><td>&vellip;</td><td>&vellip;</td><td>&vellip;</td><td>&vellip;</td></tr></tbody></table>"
      ],
      "text/latex": [
       "\\begin{tabular}{r|cccccccc}\n",
       "\t& Class & mean radius & mean texture & mean perimeter & mean area & mean smoothness & mean compactness & \\\\\n",
       "\t\\hline\n",
       "\t& Cat… & Float64 & Float64 & Float64 & Float64 & Float64 & Float64 & \\\\\n",
       "\t\\hline\n",
       "\t1 & M & 17.99 & 10.38 & 122.8 & 1001.0 & 0.1184 & 0.2776 & $\\dots$ \\\\\n",
       "\t2 & M & 20.57 & 17.77 & 132.9 & 1326.0 & 0.08474 & 0.07864 & $\\dots$ \\\\\n",
       "\t3 & M & 19.69 & 21.25 & 130.0 & 1203.0 & 0.1096 & 0.1599 & $\\dots$ \\\\\n",
       "\t4 & M & 11.42 & 20.38 & 77.58 & 386.1 & 0.1425 & 0.2839 & $\\dots$ \\\\\n",
       "\t5 & M & 20.29 & 14.34 & 135.1 & 1297.0 & 0.1003 & 0.1328 & $\\dots$ \\\\\n",
       "\t6 & M & 12.45 & 15.7 & 82.57 & 477.1 & 0.1278 & 0.17 & $\\dots$ \\\\\n",
       "\t7 & M & 18.25 & 19.98 & 119.6 & 1040.0 & 0.09463 & 0.109 & $\\dots$ \\\\\n",
       "\t8 & M & 13.71 & 20.83 & 90.2 & 577.9 & 0.1189 & 0.1645 & $\\dots$ \\\\\n",
       "\t9 & M & 13.0 & 21.82 & 87.5 & 519.8 & 0.1273 & 0.1932 & $\\dots$ \\\\\n",
       "\t10 & M & 12.46 & 24.04 & 83.97 & 475.9 & 0.1186 & 0.2396 & $\\dots$ \\\\\n",
       "\t11 & M & 16.02 & 23.24 & 102.7 & 797.8 & 0.08206 & 0.06669 & $\\dots$ \\\\\n",
       "\t12 & M & 15.78 & 17.89 & 103.6 & 781.0 & 0.0971 & 0.1292 & $\\dots$ \\\\\n",
       "\t13 & M & 19.17 & 24.8 & 132.4 & 1123.0 & 0.0974 & 0.2458 & $\\dots$ \\\\\n",
       "\t14 & M & 15.85 & 23.95 & 103.7 & 782.7 & 0.08401 & 0.1002 & $\\dots$ \\\\\n",
       "\t15 & M & 13.73 & 22.61 & 93.6 & 578.3 & 0.1131 & 0.2293 & $\\dots$ \\\\\n",
       "\t16 & M & 14.54 & 27.54 & 96.73 & 658.8 & 0.1139 & 0.1595 & $\\dots$ \\\\\n",
       "\t17 & M & 14.68 & 20.13 & 94.74 & 684.5 & 0.09867 & 0.072 & $\\dots$ \\\\\n",
       "\t18 & M & 16.13 & 20.68 & 108.1 & 798.8 & 0.117 & 0.2022 & $\\dots$ \\\\\n",
       "\t19 & M & 19.81 & 22.15 & 130.0 & 1260.0 & 0.09831 & 0.1027 & $\\dots$ \\\\\n",
       "\t20 & B & 13.54 & 14.36 & 87.46 & 566.3 & 0.09779 & 0.08129 & $\\dots$ \\\\\n",
       "\t21 & B & 13.08 & 15.71 & 85.63 & 520.0 & 0.1075 & 0.127 & $\\dots$ \\\\\n",
       "\t22 & B & 9.504 & 12.44 & 60.34 & 273.9 & 0.1024 & 0.06492 & $\\dots$ \\\\\n",
       "\t23 & M & 15.34 & 14.26 & 102.5 & 704.4 & 0.1073 & 0.2135 & $\\dots$ \\\\\n",
       "\t24 & M & 21.16 & 23.04 & 137.2 & 1404.0 & 0.09428 & 0.1022 & $\\dots$ \\\\\n",
       "\t25 & M & 16.65 & 21.38 & 110.0 & 904.6 & 0.1121 & 0.1457 & $\\dots$ \\\\\n",
       "\t26 & M & 17.14 & 16.4 & 116.0 & 912.7 & 0.1186 & 0.2276 & $\\dots$ \\\\\n",
       "\t27 & M & 14.58 & 21.53 & 97.41 & 644.8 & 0.1054 & 0.1868 & $\\dots$ \\\\\n",
       "\t28 & M & 18.61 & 20.25 & 122.1 & 1094.0 & 0.0944 & 0.1066 & $\\dots$ \\\\\n",
       "\t29 & M & 15.3 & 25.27 & 102.4 & 732.4 & 0.1082 & 0.1697 & $\\dots$ \\\\\n",
       "\t30 & M & 17.57 & 15.05 & 115.0 & 955.1 & 0.09847 & 0.1157 & $\\dots$ \\\\\n",
       "\t$\\dots$ & $\\dots$ & $\\dots$ & $\\dots$ & $\\dots$ & $\\dots$ & $\\dots$ & $\\dots$ &  \\\\\n",
       "\\end{tabular}\n"
      ],
      "text/plain": [
       "\u001b[1m569×31 DataFrame\u001b[0m\n",
       "\u001b[1m Row \u001b[0m│\u001b[1m Class \u001b[0m\u001b[1m mean radius \u001b[0m\u001b[1m mean texture \u001b[0m\u001b[1m mean perimeter \u001b[0m\u001b[1m mean area \u001b[0m\u001b[1m mean smoot\u001b[0m ⋯\n",
       "\u001b[1m     \u001b[0m│\u001b[90m Cat…  \u001b[0m\u001b[90m Float64     \u001b[0m\u001b[90m Float64      \u001b[0m\u001b[90m Float64        \u001b[0m\u001b[90m Float64   \u001b[0m\u001b[90m Float64   \u001b[0m ⋯\n",
       "─────┼──────────────────────────────────────────────────────────────────────────\n",
       "   1 │ M           17.99          10.38          122.8      1001.0          0. ⋯\n",
       "   2 │ M           20.57          17.77          132.9      1326.0          0.\n",
       "   3 │ M           19.69          21.25          130.0      1203.0          0.\n",
       "   4 │ M           11.42          20.38           77.58      386.1          0.\n",
       "   5 │ M           20.29          14.34          135.1      1297.0          0. ⋯\n",
       "   6 │ M           12.45          15.7            82.57      477.1          0.\n",
       "   7 │ M           18.25          19.98          119.6      1040.0          0.\n",
       "   8 │ M           13.71          20.83           90.2       577.9          0.\n",
       "   9 │ M           13.0           21.82           87.5       519.8          0. ⋯\n",
       "  10 │ M           12.46          24.04           83.97      475.9          0.\n",
       "  11 │ M           16.02          23.24          102.7       797.8          0.\n",
       "  ⋮  │   ⋮         ⋮            ⋮              ⋮             ⋮             ⋮   ⋱\n",
       " 560 │ B           11.51          23.93           74.52      403.5          0.\n",
       " 561 │ B           14.05          27.15           91.38      600.4          0. ⋯\n",
       " 562 │ B           11.2           29.37           70.67      386.0          0.\n",
       " 563 │ M           15.22          30.62          103.4       716.9          0.\n",
       " 564 │ M           20.92          25.09          143.0      1347.0          0.\n",
       " 565 │ M           21.56          22.39          142.0      1479.0          0. ⋯\n",
       " 566 │ M           20.13          28.25          131.2      1261.0          0.\n",
       " 567 │ M           16.6           28.08          108.3       858.1          0.\n",
       " 568 │ M           20.6           29.33          140.1      1265.0          0.\n",
       " 569 │ B            7.76          24.54           47.92      181.0          0. ⋯\n",
       "\u001b[36m                                                 26 columns and 548 rows omitted\u001b[0m"
      ]
     },
     "execution_count": 10,
     "metadata": {},
     "output_type": "execute_result"
    }
   ],
   "source": [
    "coerce!(df, :Class => OrderedFactor{2});\n",
    "df"
   ]
  },
  {
   "cell_type": "code",
   "execution_count": 12,
   "metadata": {},
   "outputs": [
    {
     "name": "stderr",
     "output_type": "stream",
     "text": [
      "┌ Info: Training Machine{Standardizer,…}.\n",
      "└ @ MLJBase C:\\Users\\adity\\.julia\\packages\\MLJBase\\u6vLz\\src\\machines.jl:403\n"
     ]
    }
   ],
   "source": [
    "y, X = unpack(df, ==(:Class),name->true, rng = RANDOM_SEED);\n",
    "transformer_instance = Standardizer()\n",
    "transformer_model = machine(transformer_instance, X)\n",
    "fit!(transformer_model)\n",
    "X = MLJ.transform(transformer_model, X);"
   ]
  },
  {
   "cell_type": "code",
   "execution_count": null,
   "metadata": {},
   "outputs": [],
   "source": []
  }
 ],
 "metadata": {
  "kernelspec": {
   "display_name": "Julia 1.6.3",
   "language": "julia",
   "name": "julia-1.6"
  },
  "language_info": {
   "file_extension": ".jl",
   "mimetype": "application/julia",
   "name": "julia",
   "version": "1.6.3"
  }
 },
 "nbformat": 4,
 "nbformat_minor": 4
}
